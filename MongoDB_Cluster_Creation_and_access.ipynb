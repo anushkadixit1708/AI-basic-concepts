{
 "cells": [
  {
   "cell_type": "markdown",
   "metadata": {},
   "source": [
    " Install pymongo if you don't have pymongo already"
   ]
  },
  {
   "cell_type": "code",
   "execution_count": 1,
   "metadata": {},
   "outputs": [
    {
     "name": "stdout",
     "output_type": "stream",
     "text": [
      "Collecting package metadata (current_repodata.json): ...working... done\n",
      "Solving environment: ...working... done\n",
      "\n",
      "## Package Plan ##\n",
      "\n",
      "  environment location: C:\\Users\\anush\\anaconda3\n",
      "\n",
      "  added / updated specs:\n",
      "    - pymongo\n",
      "\n",
      "\n",
      "The following packages will be downloaded:\n",
      "\n",
      "    package                    |            build\n",
      "    ---------------------------|-----------------\n",
      "    conda-4.10.1               |   py38h9f7ea03_1         2.9 MB\n",
      "    pymongo-3.11.4             |   py38h6986bd8_0         1.2 MB\n",
      "    ------------------------------------------------------------\n",
      "                                           Total:         4.1 MB\n",
      "\n",
      "The following NEW packages will be INSTALLED:\n",
      "\n",
      "  pymongo            pkgs/main/win-32::pymongo-3.11.4-py38h6986bd8_0\n",
      "\n",
      "The following packages will be UPDATED:\n",
      "\n",
      "  conda                                4.9.2-py38h9f7ea03_0 --> 4.10.1-py38h9f7ea03_1\n",
      "\n",
      "\n",
      "\n",
      "Downloading and Extracting Packages\n",
      "\n",
      "conda-4.10.1         | 2.9 MB    |            |   0% \n",
      "conda-4.10.1         | 2.9 MB    |            |   1% \n",
      "conda-4.10.1         | 2.9 MB    | 8          |   8% \n",
      "conda-4.10.1         | 2.9 MB    | ##4        |  25% \n",
      "conda-4.10.1         | 2.9 MB    | ####8      |  48% \n",
      "conda-4.10.1         | 2.9 MB    | #######3   |  74% \n",
      "conda-4.10.1         | 2.9 MB    | ########## | 100% \n",
      "conda-4.10.1         | 2.9 MB    | ########## | 100% \n",
      "\n",
      "pymongo-3.11.4       | 1.2 MB    |            |   0% \n",
      "pymongo-3.11.4       | 1.2 MB    | 1          |   1% \n",
      "pymongo-3.11.4       | 1.2 MB    | #######5   |  76% \n",
      "pymongo-3.11.4       | 1.2 MB    | ########## | 100% \n",
      "pymongo-3.11.4       | 1.2 MB    | ########## | 100% \n",
      "Preparing transaction: ...working... done\n",
      "Verifying transaction: ...working... done\n",
      "Executing transaction: ...working... done\n",
      "\n",
      "Note: you may need to restart the kernel to use updated packages.\n"
     ]
    }
   ],
   "source": [
    "conda install pymongo"
   ]
  },
  {
   "cell_type": "markdown",
   "metadata": {},
   "source": [
    "In the MongoDB page, paste the link 'mongodb://localhost:27017/' and press connect to connect to the database and ensure the data is stored in the collection."
   ]
  },
  {
   "cell_type": "code",
   "execution_count": 2,
   "metadata": {},
   "outputs": [],
   "source": [
    "from pymongo import MongoClient\n",
    "client = MongoClient('mongodb://localhost:27017/')"
   ]
  },
  {
   "cell_type": "markdown",
   "metadata": {},
   "source": [
    "This will create a DB named `books`, if it doesn't exist. But the DB will not be listed in the show dbs until the database has some data because in Mongo the database is in the form of a file. The file is not created until the collections are created. "
   ]
  },
  {
   "cell_type": "code",
   "execution_count": 4,
   "metadata": {},
   "outputs": [],
   "source": [
    "db = client['books']"
   ]
  },
  {
   "cell_type": "code",
   "execution_count": 5,
   "metadata": {},
   "outputs": [],
   "source": [
    "books = db.books"
   ]
  },
  {
   "cell_type": "markdown",
   "metadata": {},
   "source": [
    "Here, a data entry is made in the file. The collection is created and the DB will now be visible"
   ]
  },
  {
   "cell_type": "code",
   "execution_count": 6,
   "metadata": {},
   "outputs": [
    {
     "data": {
      "text/plain": [
       "<pymongo.results.InsertOneResult at 0x15b4f68>"
      ]
     },
     "execution_count": 6,
     "metadata": {},
     "output_type": "execute_result"
    }
   ],
   "source": [
    "books.insert_one({\"author\": \"Sidney Sheldon\",\n",
    "            \"about\": \"Tell Me Your Dreams\",\n",
    "            \"tags\":\n",
    "                [\"MPD\", \"Murder\", \"Mystery\"]})"
   ]
  },
  {
   "cell_type": "markdown",
   "metadata": {},
   "source": [
    "This line will find all of books information that was inserted by the previous line."
   ]
  },
  {
   "cell_type": "code",
   "execution_count": 7,
   "metadata": {},
   "outputs": [
    {
     "data": {
      "text/plain": [
       "{'_id': ObjectId('609577e2591f265674ffd249'),\n",
       " 'author': 'Sidney Sheldon',\n",
       " 'about': 'Tell Me Your Dreams',\n",
       " 'tags': ['MPD', 'Murder', 'Mystery']}"
      ]
     },
     "execution_count": 7,
     "metadata": {},
     "output_type": "execute_result"
    }
   ],
   "source": [
    "books.find_one()"
   ]
  }
 ],
 "metadata": {
  "kernelspec": {
   "display_name": "Python 3",
   "language": "python",
   "name": "python3"
  },
  "language_info": {
   "codemirror_mode": {
    "name": "ipython",
    "version": 3
   },
   "file_extension": ".py",
   "mimetype": "text/x-python",
   "name": "python",
   "nbconvert_exporter": "python",
   "pygments_lexer": "ipython3",
   "version": "3.8.5"
  }
 },
 "nbformat": 4,
 "nbformat_minor": 4
}
