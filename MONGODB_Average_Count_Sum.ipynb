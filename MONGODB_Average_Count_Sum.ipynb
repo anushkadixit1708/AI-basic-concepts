{
 "cells": [
  {
   "cell_type": "code",
   "execution_count": 1,
   "metadata": {},
   "outputs": [],
   "source": [
    "#This line will import Mongo to this Python notebook. Nothing will happen if this import has alred been done\n",
    "import pymongo\n",
    "from pymongo import MongoClient\n",
    "client = MongoClient('mongodb://localhost:27017/')\n"
   ]
  },
  {
   "cell_type": "code",
   "execution_count": 2,
   "metadata": {},
   "outputs": [],
   "source": [
    "#This will create a Collection/Database called \"employees\" if it doesn't already exist\n",
    "db = client['employees']"
   ]
  },
  {
   "cell_type": "code",
   "execution_count": 3,
   "metadata": {},
   "outputs": [],
   "source": [
    "#This line provides the MongoDB name for the Collection/Database \"employees\"\n",
    "employees = db.employees"
   ]
  },
  {
   "cell_type": "code",
   "execution_count": 4,
   "metadata": {},
   "outputs": [
    {
     "data": {
      "text/plain": [
       "<pymongo.results.InsertManyResult at 0x5cfe7e8>"
      ]
     },
     "execution_count": 4,
     "metadata": {},
     "output_type": "execute_result"
    }
   ],
   "source": [
    "#This line inserts employee data into db.employees database\n",
    "db.employees.insert_many([{\"name\": \"Jessica\", \"Department\":\"IT\",\"Salary\": 6000},\n",
    "                                 {\"name\": \"Joseph\", \"Department\":\"IT\",\"Salary\": 7000},\n",
    "                                 {\"name\": \"Alex\", \"Department\":\"Accounts\",\"Salary\": 5000},\n",
    "                                 {\"name\": \"Julie\", \"Department\":\"IT\",\"Salary\": 3000},\n",
    "                                 {\"name\": \"James\", \"Department\":\"Admin\",\"Salary\": 8000},\n",
    "                                 {\"name\": \"Jacob\", \"Department\":\"Admin\",\"Salary\": 9000},\n",
    "                                 {\"name\": \"Kevin\", \"Department\":\"IT\",\"Salary\": 6500}\n",
    "                              ])"
   ]
  },
  {
   "cell_type": "code",
   "execution_count": 5,
   "metadata": {},
   "outputs": [
    {
     "name": "stdout",
     "output_type": "stream",
     "text": [
      "{'_id': ObjectId('60958ab26a84faa4745a6643'), 'name': 'Jessica', 'Department': 'IT', 'Salary': 6000}\n",
      "{'_id': ObjectId('60958ab26a84faa4745a6644'), 'name': 'Joseph', 'Department': 'IT', 'Salary': 7000}\n",
      "{'_id': ObjectId('60958ab26a84faa4745a6645'), 'name': 'Alex', 'Department': 'Accounts', 'Salary': 5000}\n",
      "{'_id': ObjectId('60958ab26a84faa4745a6646'), 'name': 'Julie', 'Department': 'IT', 'Salary': 3000}\n",
      "{'_id': ObjectId('60958ab26a84faa4745a6647'), 'name': 'James', 'Department': 'Admin', 'Salary': 8000}\n",
      "{'_id': ObjectId('60958ab26a84faa4745a6648'), 'name': 'Jacob', 'Department': 'Admin', 'Salary': 9000}\n",
      "{'_id': ObjectId('60958ab26a84faa4745a6649'), 'name': 'Kevin', 'Department': 'IT', 'Salary': 6500}\n"
     ]
    }
   ],
   "source": [
    "#This finds and prints out all of the employees, their departments and their salaries\n",
    "for employee in employees.find():\n",
    "  print(employee)"
   ]
  },
  {
   "cell_type": "markdown",
   "metadata": {},
   "source": [
    "### To get the total number of records in the collection"
   ]
  },
  {
   "cell_type": "code",
   "execution_count": 6,
   "metadata": {},
   "outputs": [],
   "source": [
    "pipeline = [\n",
    "     {\"$group\": {\"_id\": None,\"Count\": {\"$sum\": 1}}}]\n",
    "grp_employees = db.employees.aggregate(pipeline)"
   ]
  },
  {
   "cell_type": "code",
   "execution_count": 8,
   "metadata": {},
   "outputs": [
    {
     "name": "stdout",
     "output_type": "stream",
     "text": [
      "{'_id': None, 'Count': 7}\n"
     ]
    }
   ],
   "source": [
    "for employee in grp_employees:\n",
    "  print(employee)"
   ]
  },
  {
   "cell_type": "markdown",
   "metadata": {},
   "source": [
    "### To group by department and get the total salary for each department"
   ]
  },
  {
   "cell_type": "code",
   "execution_count": 9,
   "metadata": {},
   "outputs": [],
   "source": [
    "pipeline = [\n",
    "     {\"$group\": {\"_id\": \"$Department\",\"Salary\": {\"$sum\": \"$Salary\"}}}]\n",
    "grp_employees = db.employees.aggregate(pipeline)\n"
   ]
  },
  {
   "cell_type": "code",
   "execution_count": 10,
   "metadata": {},
   "outputs": [
    {
     "name": "stdout",
     "output_type": "stream",
     "text": [
      "{'_id': 'Admin', 'Salary': 17000}\n",
      "{'_id': 'Accounts', 'Salary': 5000}\n",
      "{'_id': 'IT', 'Salary': 22500}\n"
     ]
    }
   ],
   "source": [
    "for employee in grp_employees:\n",
    "  print(employee)"
   ]
  },
  {
   "cell_type": "markdown",
   "metadata": {},
   "source": [
    "### To group by department and get the average salary for each department"
   ]
  },
  {
   "cell_type": "code",
   "execution_count": 16,
   "metadata": {},
   "outputs": [],
   "source": [
    "pipeline = [\n",
    "    {\"$group\":{\"_id\":\"$Department\", \"Salary\":{\"$avg\":\"$Salary\"}}}]\n",
    "grp_employees = db.employees.aggregate(pipeline)\n"
   ]
  },
  {
   "cell_type": "code",
   "execution_count": 17,
   "metadata": {},
   "outputs": [
    {
     "name": "stdout",
     "output_type": "stream",
     "text": [
      "Accounts \t Average Salary  5000.0\n",
      "Admin \t Average Salary  8500.0\n",
      "IT \t Average Salary  5625.0\n"
     ]
    }
   ],
   "source": [
    "for employee in grp_employees:\n",
    "  print(employee['_id'],\"\\t Average Salary \",employee['Salary'])"
   ]
  },
  {
   "cell_type": "markdown",
   "metadata": {},
   "source": [
    "### To get the employees with the lowest salary"
   ]
  },
  {
   "cell_type": "code",
   "execution_count": 21,
   "metadata": {},
   "outputs": [],
   "source": [
    "pipeline = [\n",
    "    {\"$group\":{\"_id\":None,\"Minimum Salary\":{\"$min\":\"$Salary\"}}}]\n",
    "grp_employees = db.employees.aggregate(pipeline)\n"
   ]
  },
  {
   "cell_type": "code",
   "execution_count": 22,
   "metadata": {},
   "outputs": [
    {
     "name": "stdout",
     "output_type": "stream",
     "text": [
      "Name  Julie \n",
      "Salary  3000\n"
     ]
    }
   ],
   "source": [
    "for employee in grp_employees:\n",
    "    for spec_emp in employees.find({\"Salary\":employee['Minimum Salary']}):\n",
    "        print(\"Name \",spec_emp['name'],\"\\nSalary \",spec_emp['Salary'])\n"
   ]
  }
 ],
 "metadata": {
  "kernelspec": {
   "display_name": "Python 3",
   "language": "python",
   "name": "python3"
  },
  "language_info": {
   "codemirror_mode": {
    "name": "ipython",
    "version": 3
   },
   "file_extension": ".py",
   "mimetype": "text/x-python",
   "name": "python",
   "nbconvert_exporter": "python",
   "pygments_lexer": "ipython3",
   "version": "3.8.5"
  }
 },
 "nbformat": 4,
 "nbformat_minor": 4
}
