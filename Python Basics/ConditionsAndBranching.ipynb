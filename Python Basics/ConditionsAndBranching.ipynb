{
 "cells": [
  {
   "cell_type": "markdown",
   "metadata": {},
   "source": [
    "### Conditions and branching"
   ]
  },
  {
   "cell_type": "code",
   "execution_count": 1,
   "metadata": {},
   "outputs": [
    {
     "name": "stdout",
     "output_type": "stream",
     "text": [
      "Enter a string While\n",
      "The string you input is  While\n"
     ]
    }
   ],
   "source": [
    "userInput = input(\"Enter a string \")\n",
    "\n",
    "if(len(userInput) > 5):\n",
    "    print(\"The String is too long\")\n",
    "    \n",
    "print(\"The string you input is \",userInput)"
   ]
  },
  {
   "cell_type": "code",
   "execution_count": 2,
   "metadata": {},
   "outputs": [
    {
     "name": "stdout",
     "output_type": "stream",
     "text": [
      "Enter a string Conditions\n",
      "The string is too long\n"
     ]
    }
   ],
   "source": [
    "userInput = input(\"Enter a string \")\n",
    "\n",
    "if(len(userInput) > 5):\n",
    "    print(\"The string is too long\")\n",
    "else:\n",
    "    print(\"The string is just right size\")\n",
    "    \n"
   ]
  },
  {
   "cell_type": "code",
   "execution_count": 3,
   "metadata": {},
   "outputs": [
    {
     "name": "stdout",
     "output_type": "stream",
     "text": [
      "Enter a string Branching\n",
      "The string you input is just as expected\n"
     ]
    }
   ],
   "source": [
    "userInput = input(\"Enter a string \")\n",
    "\n",
    "if(len(userInput) > 10):\n",
    "    print(\"The string is too long\")\n",
    "elif (len(userInput) < 5):\n",
    "    print(\"The string is too short\")\n",
    "else:\n",
    "    print(\"The string you input is just as expected\")\n",
    "    \n"
   ]
  },
  {
   "cell_type": "markdown",
   "metadata": {},
   "source": [
    "Get the user to input age as a number. If the number is less than 18, print **Children not allowed**. If the number is above 30, print **This show might be too boring for you**. If the number is between 18 to 30, both inclusive, print **Welcome to the show**"
   ]
  },
  {
   "cell_type": "code",
   "execution_count": 5,
   "metadata": {},
   "outputs": [
    {
     "name": "stdout",
     "output_type": "stream",
     "text": [
      "Enter your age 34\n",
      "This show might be too boring for you\n"
     ]
    }
   ],
   "source": [
    "Age = int(input(\"Enter your age \"))\n",
    "\n",
    "if(Age > 30):\n",
    "    print(\"This show might be too boring for you\")\n",
    "elif (Age < 18):\n",
    "    print(\"Children not allowed\")\n",
    "else:\n",
    "    print(\"Welcome to the show\")"
   ]
  }
 ],
 "metadata": {
  "kernelspec": {
   "display_name": "Python 3",
   "language": "python",
   "name": "python3"
  },
  "language_info": {
   "codemirror_mode": {
    "name": "ipython",
    "version": 3
   },
   "file_extension": ".py",
   "mimetype": "text/x-python",
   "name": "python",
   "nbconvert_exporter": "python",
   "pygments_lexer": "ipython3",
   "version": "3.8.5"
  }
 },
 "nbformat": 4,
 "nbformat_minor": 4
}
